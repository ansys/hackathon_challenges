{
 "cells": [
  {
   "cell_type": "markdown",
   "id": "92656bb5",
   "metadata": {},
   "source": [
    "# Introductory Challenges\n",
    "\n",
    "## How to use AnsysLab\n",
    "\n",
    "If you're running this notebook in AnsysLab, then you may find it useful to read [this article on the developer portal](https://developer.ansys.com/blog/jupyterlab-quickstart-cheat-sheet) that goes over how to use JupyterLab, which AnsysLab is based on. Otherwise, these challenges will assume you know the basics of jupyter notebooks and JupyterLab.\n",
    "\n",
    "## Introduction\n",
    "\n",
    "These challenges are meant to be completed! The challenge is about speed. Whoever finishes them all in the shortest time will win! Note: We will be looking out for cheaters and [smurfs](https://www.idnow.io/glossary/smurfing/#:~:text=What%20is%20Smurfing%20in%20gaming,alternate%20account%20or%20multiple%20accounts.), so don't even think about it!\n",
    "\n",
    "## Getting Started\n",
    "\n",
    "Challenges in this series unlock as you complete them. At the end of each challenge you will be prompted to use your answers by plugging them into the function `decipher_password`. This function will generate a password based on your answers to a challenge. If you got the answers to a challenge correct then the password will unlock the next challenge.\n",
    "\n",
    "Each subsequent challenge can only be unlocked from this notebook, so you will be returning to it a lot. We recommend keeping the tab with this in open for the duration of the challenges.\n",
    "\n",
    "Some useful information regarding this notebook:\n",
    "\n",
    "* You must run the cell below to start the challenges.\n",
    "* Follow the instructions provided in the prompts and once everything is set up, the challenges will unlock and the timer will start!\n",
    "* Once the challenges are unlocked directories will appear in your working directory (the left window pane in AnsysLab).\n",
    "* Navigate to the `Challenge1` folder to find the first challenge inside, as another jupyter notebook.\n",
    "* Once you have completed the `Challenge1` notebook, *return here* and enter your password in the quotation marks after `answer1`.\n",
    "    * Then run that cell!\n",
    "    * If you got it correct then you will see a congratulatory message and the next challenge will unzip\n",
    "    * You should repeat this for the next challenge!\n",
    "\n",
    "> If your passsword was `Timmy code-rebaser` Your cell might look something like this...\n",
    "> ```Python\n",
    "> answer1 = 'Timmy code-rebaser'\n",
    "> unlock_challenge_2(answer1)\n",
    "> ```\n",
    "\n",
    "* If you don't immediately see files appear in your file explorer on the left, then make sure to refresh it first\n",
    "    * And wait a minute as well. It shouldn't take long, but if the AnsysLab server is under a lot of strain, it could!\n",
    "*  Once `Challenge5` is complete, the final password is your winning answer *provided you got it correct!*.\n",
    "    * You must submit it without knowing if you got it right...\n",
    "* Instead of unlocking more material, with an `unlock_challenge` function, you must run the `complete_challenges` function instead\n",
    "* This will stamp your submission file (`submission.txt`) and it will be ready for submission.\n",
    "\n",
    "## Submission\n",
    "\n",
    "* Once you have a submission file (see above), you must email it to `hackathon1@ansys.com`, with the subject `[HACKATHON INTRODUCTORY ENTRY]`.\n",
    "* You can download it from AnsysLab by right-clicking on the file and selecting \"download\" in the file explorer window pane.\n",
    "* DO NOT EDIT THE FILE\n",
    "    * If we find the file to have been edited you and your team may be disqualified.\n"
   ]
  },
  {
   "cell_type": "code",
   "execution_count": 1,
   "id": "f62b6838",
   "metadata": {},
   "outputs": [],
   "source": [
    "from ansyshack2023 import unlock_challenge_2, unlock_challenge_3, \\\n",
    "                          unlock_challenge_4, unlock_challenge_5, \\\n",
    "                          begin_challenges, complete_challenges\n",
    "\n",
    "\n",
    "begin_challenges()"
   ]
  },
  {
   "cell_type": "code",
   "execution_count": null,
   "id": "e7b9519a",
   "metadata": {},
   "outputs": [],
   "source": [
    "answer1 = ''\n",
    "unlock_challenge_2(answer1)"
   ]
  },
  {
   "cell_type": "code",
   "execution_count": null,
   "id": "8f2c827a",
   "metadata": {},
   "outputs": [],
   "source": [
    "answer2 = ''\n",
    "unlock_challenge_3(answer2)"
   ]
  },
  {
   "cell_type": "code",
   "execution_count": null,
   "id": "1c3ca6e8",
   "metadata": {},
   "outputs": [],
   "source": [
    "answer3 = ''\n",
    "unlock_challenge_4(answer3)"
   ]
  },
  {
   "cell_type": "code",
   "execution_count": null,
   "id": "de47c30c",
   "metadata": {},
   "outputs": [],
   "source": [
    "answer4 = ''\n",
    "unlock_challenge_5(answer4)"
   ]
  },
  {
   "cell_type": "code",
   "execution_count": 2,
   "id": "36d7f8dd",
   "metadata": {},
   "outputs": [],
   "source": [
    "answer5 = ''\n",
    "complete_challenges(answer5)"
   ]
  },
  {
   "cell_type": "markdown",
   "id": "73d67d18",
   "metadata": {},
   "source": [
    "Send your entry file (`submission.txt`) as an attachment to james.derrick@ansys.com with the subject `[HACKATHON INTRODUCTORY ENTRY]` (this is case sensitive!). \n",
    "\n",
    "IMPORTANT: Do not alter your submission file! If we find it has been edited (outside of the functions we've written that work with it) your team could be disqualified.\n",
    "\n",
    "[Click here to open an email with the necessary subject](mailto:james.derrick@ansys.com?subject=[HACKATHON%20INTRODUCTORY%20ENTRY])"
   ]
  },
  {
   "cell_type": "code",
   "execution_count": null,
   "id": "1ba9184e",
   "metadata": {},
   "outputs": [],
   "source": []
  }
 ],
 "metadata": {
  "kernelspec": {
   "display_name": "Python 3 (ipykernel)",
   "language": "python",
   "name": "python3"
  },
  "language_info": {
   "codemirror_mode": {
    "name": "ipython",
    "version": 3
   },
   "file_extension": ".py",
   "mimetype": "text/x-python",
   "name": "python",
   "nbconvert_exporter": "python",
   "pygments_lexer": "ipython3",
   "version": "3.10.6"
  }
 },
 "nbformat": 4,
 "nbformat_minor": 5
}
